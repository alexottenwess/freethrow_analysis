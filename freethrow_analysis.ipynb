{
 "cells": [
  {
   "cell_type": "code",
   "execution_count": 78,
   "metadata": {},
   "outputs": [],
   "source": [
    "import numpy as np\n",
    "import pandas as pd\n",
    "\n",
    "df = pd.read_csv('free_throws.csv')"
   ]
  },
  {
   "cell_type": "code",
   "execution_count": 79,
   "metadata": {},
   "outputs": [],
   "source": [
    "def get_crunch_time(row):\n",
    "    period = int(row['period'])\n",
    "    time = row['time']\n",
    "    minutes = int(time.split(':')[0])\n",
    "    \n",
    "    if period >= 4 and minutes < 2:\n",
    "        row['crunch_time'] = True\n",
    "    else:\n",
    "        row['crunch_time'] = False\n",
    "        \n",
    "    return row\n",
    "\n",
    "df = df.apply(get_crunch_time, axis=1)\n",
    "\n",
    "# only look at non-crunch time FTs\n",
    "df = df[df['crunch_time'] == False]"
   ]
  },
  {
   "cell_type": "code",
   "execution_count": 91,
   "metadata": {},
   "outputs": [
    {
     "name": "stderr",
     "output_type": "stream",
     "text": [
      "/Users/alexottenwess/anaconda3/lib/python3.6/site-packages/ipykernel_launcher.py:27: SettingWithCopyWarning: \n",
      "A value is trying to be set on a copy of a slice from a DataFrame.\n",
      "Try using .loc[row_indexer,col_indexer] = value instead\n",
      "\n",
      "See the caveats in the documentation: http://pandas.pydata.org/pandas-docs/stable/indexing.html#indexing-view-versus-copy\n",
      "/Users/alexottenwess/anaconda3/lib/python3.6/site-packages/ipykernel_launcher.py:28: SettingWithCopyWarning: \n",
      "A value is trying to be set on a copy of a slice from a DataFrame.\n",
      "Try using .loc[row_indexer,col_indexer] = value instead\n",
      "\n",
      "See the caveats in the documentation: http://pandas.pydata.org/pandas-docs/stable/indexing.html#indexing-view-versus-copy\n"
     ]
    }
   ],
   "source": [
    "def get_shot_number(play):\n",
    "    words = play.split()\n",
    "    try:\n",
    "        return int(words[-3])\n",
    "    except:\n",
    "        return np.NaN\n",
    "\n",
    "def get_shot_of_total(play):\n",
    "    words = play.split()\n",
    "    try:\n",
    "        return int(words[-1])\n",
    "    except:\n",
    "        return np.NaN\n",
    "\n",
    "def get_shot_type(play):\n",
    "    words = play.split()\n",
    "    if 'technical' in words:\n",
    "        return 'technical'\n",
    "    else:\n",
    "        return 'regular'\n",
    "\n",
    "df['shot_type'] = df['play'].map(get_shot_type)\n",
    "\n",
    "# only look at regular free throws\n",
    "regular_df = df[df['shot_type'] == 'regular']\n",
    "regular_df['shot_number'] = regular_df['play'].map(get_shot_number)\n",
    "regular_df['of_total'] = regular_df['play'].map(get_shot_of_total)\n"
   ]
  },
  {
   "cell_type": "code",
   "execution_count": 82,
   "metadata": {},
   "outputs": [
    {
     "name": "stdout",
     "output_type": "stream",
     "text": [
      "current points generated: 406528\n"
     ]
    }
   ],
   "source": [
    "# total points from free throws following current rules\n",
    "total_current_points = regular_df['shot_made'].sum()\n",
    "print('current points generated: {}'.format(total_current_points))"
   ]
  },
  {
   "cell_type": "code",
   "execution_count": 83,
   "metadata": {},
   "outputs": [
    {
     "name": "stdout",
     "output_type": "stream",
     "text": [
      "new rules points generated: 394687\n"
     ]
    }
   ],
   "source": [
    "first_shots_df = regular_df[regular_df['shot_number'] == 1]\n",
    "first_shots_made_df = first_shots_df[first_shots_df['shot_made'] == 1]\n",
    "total_new_rules_points = first_shots_made_df['of_total'].sum()\n",
    "print('new rules points generated: {}'.format(int(total_new_rules_points)))"
   ]
  },
  {
   "cell_type": "code",
   "execution_count": 89,
   "metadata": {},
   "outputs": [
    {
     "data": {
      "text/plain": [
       "97.08728550062973"
      ]
     },
     "execution_count": 89,
     "metadata": {},
     "output_type": "execute_result"
    }
   ],
   "source": [
    "(total_new_rules_points / total_current_points) * 100"
   ]
  }
 ],
 "metadata": {
  "kernelspec": {
   "display_name": "Python 3",
   "language": "python",
   "name": "python3"
  },
  "language_info": {
   "codemirror_mode": {
    "name": "ipython",
    "version": 3
   },
   "file_extension": ".py",
   "mimetype": "text/x-python",
   "name": "python",
   "nbconvert_exporter": "python",
   "pygments_lexer": "ipython3",
   "version": "3.6.1"
  }
 },
 "nbformat": 4,
 "nbformat_minor": 2
}
